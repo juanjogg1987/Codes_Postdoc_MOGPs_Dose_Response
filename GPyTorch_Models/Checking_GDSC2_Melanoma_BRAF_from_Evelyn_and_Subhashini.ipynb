{
 "cells": [
  {
   "cell_type": "code",
   "execution_count": 91,
   "id": "859ada6a",
   "metadata": {},
   "outputs": [],
   "source": [
    "import pandas as pd\n",
    "import numpy as np\n",
    "import time\n",
    "from sklearn.metrics import r2_score\n",
    "from scipy.optimize import curve_fit\n",
    "from scipy.optimize import leastsq\n",
    "import scipy.optimize as opt\n",
    "from tqdm import tqdm\n",
    "import warnings\n",
    "warnings.filterwarnings(\"ignore\")\n",
    "\n",
    "from sklearn.kernel_ridge import KernelRidge\n",
    "from sklearn.metrics import mean_squared_error\n",
    "from sklearn.metrics import mean_absolute_error\n",
    "import gc\n",
    "\n",
    "from sklearn.model_selection import LeaveOneOut\n",
    "from sklearn.model_selection import GridSearchCV\n",
    "from sklearn.preprocessing import MinMaxScaler\n",
    "import os\n",
    "\n",
    "import scipy as sp\n",
    "\n",
    "# _FOLDER = \"/home/ac1jjgg/MOGP_GPyTorch/FiveCancersDataSet/\"\n",
    "_FOLDER = \"/home/juanjo/Work_Postdoc/my_codes_postdoc/GPyTorch_Models/Dataset_BRAF/GDSC2/\""
   ]
  },
  {
   "cell_type": "code",
   "execution_count": 92,
   "id": "e62b2805",
   "metadata": {},
   "outputs": [],
   "source": [
    "def sigmoid_4_param(x, x0, L, k, d):\n",
    "    \"\"\" Comparing with Dennis Wang's sigmoid:\n",
    "    x0 -  p - position, correlation with IC50 or EC50\n",
    "    L = 1 in Dennis Wang's sigmoid, protect from devision by zero if x is too small \n",
    "    k = -1/s (s -shape parameter)\n",
    "    d - determines the vertical position of the sigmoid - shift on y axis - better fitting then Dennis Wang's sigmoid\n",
    "\n",
    "    \"\"\"\n",
    "    return ( 1/ (L + np.exp(-k*(x-x0))) + d)"
   ]
  },
  {
   "cell_type": "code",
   "execution_count": 93,
   "id": "e3840f2a",
   "metadata": {},
   "outputs": [],
   "source": [
    "#df = pd.read_csv(_FOLDER + \"GDSC2_melanoma_BRAF.csv\")  # dataset prepared by Subhashini-Evelyn\n",
    "#df_drug = pd.read_csv(_FOLDER + \"GDSC2_Drug_Features.csv\")  "
   ]
  },
  {
   "cell_type": "code",
   "execution_count": 94,
   "id": "5761ff99",
   "metadata": {},
   "outputs": [
    {
     "name": "stdout",
     "output_type": "stream",
     "text": [
      "ABCB1_mut\n",
      "Columns with std equal zero:\n",
      "Number of columns with zero std: 707\n",
      "(array([   2,    4,    5,    6,   11,   12,   24,   25,   26,   27,   28,\n",
      "         29,   32,   34,   35,   36,   38,   40,   41,   43,   44,   45,\n",
      "         47,   52,   53,   54,   56,   59,   60,   61,   62,   66,   67,\n",
      "         68,   69,   70,   71,   74,   77,   78,   79,   80,   81,   83,\n",
      "         84,   85,   86,   87,   90,   91,   92,   93,   94,   96,   98,\n",
      "        100,  101,  102,  104,  107,  109,  111,  112,  113,  115,  116,\n",
      "        117,  118,  119,  120,  121,  122,  124,  126,  127,  128,  129,\n",
      "        130,  131,  132,  133,  134,  136,  137,  139,  140,  141,  143,\n",
      "        144,  145,  146,  147,  148,  149,  150,  151,  153,  154,  156,\n",
      "        157,  158,  159,  161,  162,  163,  166,  167,  168,  169,  170,\n",
      "        172,  173,  174,  175,  177,  178,  179,  182,  186,  187,  189,\n",
      "        190,  191,  194,  195,  196,  197,  198,  200,  201,  202,  203,\n",
      "        204,  207,  208,  209,  210,  211,  212,  217,  219,  220,  221,\n",
      "        222,  223,  224,  226,  227,  228,  229,  230,  232,  234,  235,\n",
      "        236,  238,  239,  240,  243,  245,  246,  247,  248,  250,  252,\n",
      "        253,  255,  256,  257,  259,  260,  261,  262,  263,  264,  266,\n",
      "        268,  269,  270,  271,  272,  275,  276,  277,  278,  279,  282,\n",
      "        283,  284,  286,  287,  288,  290,  295,  296,  299,  300,  301,\n",
      "        302,  303,  304,  305,  306,  307,  308,  309,  310,  311,  313,\n",
      "        314,  316,  317,  318,  319,  322,  324,  325,  326,  328,  329,\n",
      "        333,  336,  337,  338,  340,  342,  343,  344,  345,  346,  347,\n",
      "        349,  350,  352,  360,  362,  389,  416,  418,  419,  420,  421,\n",
      "        433,  435,  436,  437,  438,  439,  440,  442,  444,  445,  447,\n",
      "        448,  464,  465,  466,  467,  468,  469,  471,  472,  473,  474,\n",
      "        475,  476,  512,  513,  515,  516,  517,  518,  519,  520,  521,\n",
      "        522,  524,  525,  545,  546,  548,  549,  569,  570,  571,  582,\n",
      "        598,  600,  602,  603,  605,  607,  609,  610,  611,  612,  615,\n",
      "        616,  617,  618,  619,  620,  621,  622,  623,  624,  628,  630,\n",
      "        631,  632,  633,  634,  649,  650,  651,  652,  653,  654,  655,\n",
      "        656,  657,  658,  660,  661,  662,  664,  665,  666,  677,  678,\n",
      "        679,  680,  681,  682,  683,  684,  686,  687,  688,  690,  691,\n",
      "        692,  703,  705,  706,  715,  725,  726,  728,  754,  755,  756,\n",
      "        759,  760,  761,  762,  763,  764,  765,  766,  767,  768,  769,\n",
      "        770,  771,  772,  773,  774,  775,  776,  777,  778,  779,  780,\n",
      "        781,  782,  783,  784,  785,  787,  788,  789,  790,  791,  792,\n",
      "        793,  794,  795,  796,  797,  798,  799,  800,  801,  802,  803,\n",
      "        804,  805,  806,  807,  809,  810,  811,  812,  813,  814,  815,\n",
      "        816,  817,  818,  819,  820,  821,  822,  823,  824,  825,  826,\n",
      "        827,  828,  830,  831,  832,  833,  834,  835,  836,  837,  838,\n",
      "        839,  840,  841,  842,  843,  844,  846,  847,  848,  849,  850,\n",
      "        851,  853,  854,  855,  856,  857,  860,  861,  862,  863,  864,\n",
      "        865,  866,  867,  868,  869,  870,  871,  872,  873,  874,  875,\n",
      "        876,  877,  879,  880,  881,  883,  884,  885,  886,  887,  888,\n",
      "        889,  890,  891,  892,  893,  894,  895,  897,  898,  899,  900,\n",
      "        901,  902,  903,  904,  906,  907,  908,  909,  910,  911,  912,\n",
      "        913,  914,  915,  916,  917,  918,  920,  921,  922,  923,  924,\n",
      "        925,  926,  927,  928,  929,  930,  931,  932,  933,  934,  935,\n",
      "        936,  937,  938,  939,  940,  941,  942,  943,  945,  946,  947,\n",
      "        948,  949,  950,  951,  952,  953,  954,  955,  956,  957,  958,\n",
      "        959,  960,  961,  962,  963,  964,  965,  966,  967,  968,  969,\n",
      "        970,  972,  973,  974,  975,  978,  979,  980,  981,  982,  983,\n",
      "        984,  985,  986,  987,  988,  989,  990,  991,  992,  993,  994,\n",
      "        995,  996,  997,  998,  999, 1000, 1001, 1002, 1003, 1004, 1005,\n",
      "       1006, 1007, 1008, 1009, 1010, 1011, 1012, 1013, 1014, 1015, 1016,\n",
      "       1017, 1018, 1019, 1020, 1021, 1022, 1023, 1024, 1025, 1026, 1027,\n",
      "       1028, 1029, 1030, 1031, 1032, 1033, 1034, 1035, 1036, 1037, 1038,\n",
      "       1039, 1040, 1041, 1042, 1043, 1045, 1046, 1047, 1048, 1049, 1050,\n",
      "       1051, 1052, 1053, 1054, 1055, 1056, 1057, 1058, 1059, 1060, 1061,\n",
      "       1062, 1063, 1064, 1065, 1066, 1067, 1068, 1069, 1070, 1071, 1072,\n",
      "       1073, 1074, 1075, 1076, 1077, 1078, 1079, 1080, 1081, 1082, 1083,\n",
      "       1084, 1085, 1087, 1088, 1089, 1090, 1091, 1092, 1093, 1094, 1095,\n",
      "       1096, 1097, 1098, 1099, 1100, 1102, 1103, 1104, 1105, 1108, 1110,\n",
      "       1114, 1118, 1120, 1122, 1123, 1124, 1125, 1126, 1127, 1128, 1129,\n",
      "       1130, 1131, 1132, 1133, 1134, 1135, 1136, 1137, 1138, 1139, 1140,\n",
      "       1141, 1142, 1143]),)\n"
     ]
    },
    {
     "data": {
      "text/plain": [
       "''"
      ]
     },
     "execution_count": 94,
     "metadata": {},
     "output_type": "execute_result"
    }
   ],
   "source": [
    "name_for_KLrelevance = 'GDSC2_melanoma_BRAF.csv'\n",
    "\n",
    "df_train_No_MolecForm = pd.read_csv(_FOLDER + name_for_KLrelevance)  # Contain Train dataset prepared by Subhashini-Evelyn\n",
    "\"\"\"\"\"\"\"\"\"\"\"\"\"\"\"\"\"\"\"\"\"\"\"\"\"\"\"\"\"\"\"\"\"\"\"\"\"\"\"\"\"\"\"\"\"\"\"\"\"\"\"\"\"\"\"\"\"\"\"\"\"\"\"\"\"\"\"\"\"\"\"\"\"\"\"\"\"\"\"\"\"\"\"\"\"\"\"\"\"\"\"\"\"\"\"\"\"\"\"\"\"\"\"\"\"\"\"\"\"\"\"\"\"\"\n",
    "\"\"\"\"\"\"\"\"\"\"\"\"\"\"\"\"\"\"\"\"\"\"\"\"\"\"\"\"\"\"\"\"\"\"\"\"\"\"\"\"\"\"\"\"\"\"\"\"\"\"\"\"\"\"\"\"\"\"\"\"\"\"\"\"\"\"\"\"\"\"\"\"\"\"\"\"\"\"\"\"\"\"\"\"\"\"\"\"\"\"\"\"\"\"\"\"\"\"\"\"\"\"\"\"\"\"\"\"\"\"\"\"\"\"\n",
    "try:\n",
    "    df_train_No_MolecForm = df_train_No_MolecForm.drop(columns='Drug_Name')\n",
    "except:\n",
    "    pass\n",
    "\n",
    "# Here we just check that from the column index 25 the input features start\n",
    "start_pos_features = 25\n",
    "print(df_train_No_MolecForm.columns[start_pos_features])\n",
    "\n",
    "#print(\"Columns with std equal zero:\")\n",
    "#print(\"Number of columns with zero std:\", np.sum(df_train_No_MolecForm.std(0) == 0.0))\n",
    "#print(np.where(df_train_No_MolecForm.std(0) == 0.0))\n",
    "\"\"\"\"\"\"\"\"\"\"\"\"\"\"\"\"\"\"\"\"\"\"\"\"\"\"\"\"\"\"\"\"\"\"\"\"\"\"\"\"\"\"\"\"\"\"\"\"\"\"\"\"\"\"\"\"\"\"\"\"\"\"\"\"\"\"\"\"\"\"\"\"\"\"\"\"\"\"\"\"\"\"\"\"\"\"\"\"\"\"\"\"\"\"\"\"\"\"\"\"\"\"\"\"\"\"\"\"\"\"\"\"\"\"\n",
    "\"\"\"\"\"\"\"\"\"\"\"\"\"\"\"\"\"\"\"\"\"\"\"\"\"\"\"\"\"\"\"\"\"\"\"\"\"\"\"\"\"\"\"\"\"\"\"\"\"\"\"\"\"\"\"\"\"\"\"\"\"\"\"\"\"\"\"\"\"\"\"\"\"\"\"\"\"\"\"\"\"\"\"\"\"\"\"\"\"\"\"\"\"\"\"\"\"\"\"\"\"\"\"\"\"\"\"\"\"\"\"\"\"\""
   ]
  },
  {
   "cell_type": "code",
   "execution_count": 95,
   "id": "74ba96a5",
   "metadata": {},
   "outputs": [
    {
     "name": "stdout",
     "output_type": "stream",
     "text": [
      "(357, 1)\n",
      "Ytrain size:  (357, 7)\n"
     ]
    }
   ],
   "source": [
    "scaler = MinMaxScaler().fit(df_train_No_MolecForm[df_train_No_MolecForm.columns[start_pos_features:]])\n",
    "X_train_features = scaler.transform(df_train_No_MolecForm[df_train_No_MolecForm.columns[start_pos_features:]])\n",
    "\n",
    "y_train_drug = np.clip(df_train_No_MolecForm[\"norm_cells_\" + str(1)].values[:, None], 1.0e-9, np.inf)\n",
    "print(y_train_drug.shape)\n",
    "for i in range(2, 8):\n",
    "    y_train_drug = np.concatenate(\n",
    "        (y_train_drug, np.clip(df_train_No_MolecForm[\"norm_cells_\" + str(i)].values[:, None], 1.0e-9, np.inf)), 1)\n",
    "\n",
    "print(\"Ytrain size: \", y_train_drug.shape)\n",
    "\"\"\"\"\"\"\"\"\"\"\"\"\"\"\"\"\"\"\"\"\"\"\"\"\"\"\"\"\"\"\"\"\"\"\"\"\"\"\"\"\"\"\"\"\"\"\"\"\"\"\"\"\"\"\"\"\"\"\"\"\"\"\"\"\"\"\"\"\"\"\"\"\"\"\"\"\"\"\"\"\"\"\"\"\"\"\"\"\"\"\"\"\"\"\"\"\"\"\"\"\"\"\"\"\"\"\"\"\"\"\"\"\"\"\n",
    "\"\"\"\"\"\"\"\"\"\"\"\"\"\"\"\"\"\"\"\"\"\"\"\"\"\"\"\"\"\"\"\"\"\"\"\"\"\"\"\"\"\"\"\"\"\"\"\"\"\"\"\"\"\"\"\"\"\"\"\"\"\"\"\"\"\"\"\"\"\"\"\"\"\"\"\"\"\"\"\"\"\"\"\"\"\"\"\"\"\"\"\"\"\"\"\"\"\"\"\"\"\"\"\"\"\"\"\"\"\"\"\"\"\""
   ]
  },
  {
   "cell_type": "code",
   "execution_count": 172,
   "id": "230dd858",
   "metadata": {},
   "outputs": [
    {
     "name": "stdout",
     "output_type": "stream",
     "text": [
      "0.5800247704071014\n"
     ]
    },
    {
     "data": {
      "image/png": "[encoded data removed]",
      "text/plain": [
       "<Figure size 432x288 with 1 Axes>"
      ]
     },
     "metadata": {
      "needs_background": "light"
     },
     "output_type": "display_data"
    }
   ],
   "source": [
    "params_4_sig_train = df_train_No_MolecForm[\"param_\" + str(1)].values[:, None]\n",
    "for i in range(2, 5):\n",
    "    params_4_sig_train = np.concatenate(\n",
    "        (params_4_sig_train, df_train_No_MolecForm[\"param_\" + str(i)].values[:, None]), 1)\n",
    "\n",
    "\"\"\"\"\"\"\"\"\"\"\"\"\"\"\"\"\"\"\"\"\"\"\"\"\"\"\"\"\"\"\"\"\"\"\"\"\"\"\"\"\"\"\"\"\"\"\"\"\"\"\"\"\"\"\"\"\"\"\"\"\"\"\"\"\"\"\"\"\"\"\"\"\"\"\"\"\"\"\"\"\"\"\"\"\"\"\"\"\"\"\"\"\"\"\"\"\"\"\"\"\"\"\"\"\"\"\"\"\"\"\"\"\"\"\n",
    "\"\"\"\"\"\"\"\"\"\"\"\"\"\"\"\"\"\"\"\"\"\"\"\"\"\"\"\"\"\"\"\"\"\"\"\"\"\"\"\"\"\"\"\"\"\"\"\"\"\"\"\"\"\"\"\"\"\"\"\"\"\"\"\"\"\"\"\"\"\"\"\"\"\"\"\"\"\"\"\"\"\"\"\"\"\"\"\"\"\"\"\"\"\"\"\"\"\"\"\"\"\"\"\"\"\"\"\"\"\"\"\"\"\"\n",
    "\n",
    "\"\"\"\"\"\"\"\"\"\"\"\"\"\"\"\"\"\"\"\"\"\"\"\"\"\"\"\"\"\"\"\"\"\"\"\"\"\"\"\"\"\"\"\"\"\"\"\"\"\"\"\"\"\"\"\"\"\"\"\"\"\"\"\"\"\"\"\"\"\"\"\"\"\"\"\"\"\"\"\"\"\"\"\"\"\"\"\"\"\"\"\"\"\"\"\"\"\"\"\"\"\"\"\"\"\"\"\"\"\"\"\"\"\"\n",
    "\"\"\"\"\"\"\"\"\"\"\"\"\"\"\"\"\"\"\"\"\"\"\"\"\"\"\"\"\"\"\"\"\"\"\"\"\"\"\"\"\"\"\"\"\"\"\"\"\"\"\"\"\"\"\"\"\"\"\"\"\"\"\"\"\"\"\"\"\"\"\"\"\"\"\"\"\"\"\"\"\"\"\"\"\"\"\"\"\"\"\"\"\"\"\"\"\"\"\"\"\"\"\"\"\"\"\"\"\"\"\"\"\"\"\n",
    "import matplotlib.pyplot as plt\n",
    "from sklearn import metrics\n",
    "\n",
    "plt.close('all')\n",
    "\n",
    "x_lin = np.linspace(0.111111, 1, 1000)\n",
    "x_real_dose = np.linspace(0.111111, 1, 7)  #Here is 7 due to using GDSC2 that has 7 doses\n",
    "x_lin_tile = np.tile(x_lin, (params_4_sig_train.shape[0], 1))\n",
    "# (x_lin,params_4_sig_train.shape[0],1).shape\n",
    "Ydose_res = []\n",
    "AUC = []\n",
    "IC50 = []\n",
    "Ydose50 = []\n",
    "Emax = []\n",
    "for i in range(params_4_sig_train.shape[0]):\n",
    "    Ydose_res.append(sigmoid_4_param(x_lin_tile[i, :], *params_4_sig_train[i, :]))\n",
    "    AUC.append(metrics.auc(x_lin_tile[i, :], Ydose_res[i]))\n",
    "    Emax.append(Ydose_res[i][-1])\n",
    "    res1 = (Ydose_res[i] < 0.507)\n",
    "    res2 = (Ydose_res[i] > 0.493)\n",
    "    if (res1 & res2).sum() > 0:\n",
    "        Ydose50.append(Ydose_res[i][res1 & res2].mean())\n",
    "        IC50.append(x_lin[res1 & res2].mean())\n",
    "    elif Ydose_res[i][-1]<0.5:\n",
    "        Ydose50.append(Ydose_res[i].max())\n",
    "        IC50.append(x_lin[ np.where(Ydose_res[i].max())[0]])\n",
    "    else:\n",
    "        Ydose50.append(0.5)\n",
    "        IC50.append(1.5) #IC50.append(x_lin[-1])\n",
    "\n",
    "posy = 300\n",
    "#plt.figure(Nfold)\n",
    "plt.plot(x_lin, Ydose_res[posy])\n",
    "plt.plot(x_real_dose, y_train_drug[posy, :], '.')\n",
    "plt.plot(IC50[posy], Ydose50[posy], 'rx')\n",
    "plt.plot(x_lin, np.ones_like(x_lin)*Emax[posy], 'r') #Plot a horizontal line as Emax\n",
    "plt.title(f\"AUC = {AUC[posy]}\")\n",
    "print(AUC[posy])"
   ]
  },
  {
   "cell_type": "code",
   "execution_count": 173,
   "id": "e7307a00",
   "metadata": {},
   "outputs": [
    {
     "name": "stdout",
     "output_type": "stream",
     "text": [
      "AUC train size: (357, 1)\n",
      "IC50 train size: (357, 1)\n",
      "Emax train size: (357, 1)\n",
      "X all data size: (357, 419)\n",
      "Y all data size: (357, 7)\n"
     ]
    },
    {
     "data": {
      "text/plain": [
       "''"
      ]
     },
     "execution_count": 173,
     "metadata": {},
     "output_type": "execute_result"
    }
   ],
   "source": [
    "\"\"\"\"\"\"\"\"\"\"\"\"\"\"\"\"\"\"\"\"\"\"\"\"\"\"\"\"\"\"\"\"\"\"\"\"\"\"\"\"\"\"\"\"\"\"\"\"\"\"\"\"\"\"\"\"\"\"\"\"\"\"\"\"\"\"\"\"\"\"\"\"\"\"\"\"\"\"\"\"\"\"\"\"\"\"\"\"\"\"\"\"\"\"\"\"\"\"\"\"\"\"\"\"\"\"\"\"\"\"\"\"\"\"\n",
    "\"\"\"\"\"\"\"\"\"\"\"\"\"\"\"\"\"\"\"\"\"\"\"\"\"\"\"\"\"\"\"\"\"\"\"\"\"\"\"\"\"\"\"\"\"\"\"\"\"\"\"\"\"\"\"\"\"\"\"\"\"\"\"\"\"\"\"\"\"\"\"\"\"\"\"\"\"\"\"\"\"\"\"\"\"\"\"\"\"\"\"\"\"\"\"\"\"\"\"\"\"\"\"\"\"\"\"\"\"\"\"\"\"\"\n",
    "# Compute Log(AUC)? R/ Not for Functional Random Forest Model\n",
    "AUC = np.array(AUC)\n",
    "IC50 = np.array(IC50)\n",
    "Emax = np.array(Emax)\n",
    "\n",
    "\"Below we select just the columns with std higher than zero\"\n",
    "ind_nonzero_std = np.where(X_train_features.std(0)!=0.0)[0]\n",
    "AllNames_Features = df_train_No_MolecForm.columns[start_pos_features:]  #starts from 25\n",
    "Name_Features_Melanoma = AllNames_Features[ind_nonzero_std]\n",
    "Xall = X_train_features[:,ind_nonzero_std].copy()\n",
    "Yall = y_train_drug.copy()\n",
    "\n",
    "AUC_all = AUC[:, None].copy()\n",
    "IC50_all = IC50[:, None].copy()\n",
    "Emax_all = Emax[:, None].copy()\n",
    "\n",
    "print(\"AUC train size:\", AUC_all.shape)\n",
    "print(\"IC50 train size:\", IC50_all.shape)\n",
    "print(\"Emax train size:\", Emax_all.shape)\n",
    "print(\"X all data size:\", Xall.shape)\n",
    "print(\"Y all data size:\", Yall.shape)\n",
    "\n",
    "\"\"\"\"\"\"\"\"\"\"\"\"\"\"\"\"\"\"\"\"\"\"\"\"\"\"\"\"\"\"\"\"\"\"\"\"\"\"\"\"\"\"\"\"\"\"\"\"\"\"\"\"\"\"\"\"\"\"\"\"\"\"\"\"\"\"\"\"\"\"\"\"\"\"\"\"\"\"\"\"\"\"\"\"\"\"\"\"\"\"\"\"\"\"\"\"\"\"\"\"\"\"\"\"\"\"\"\"\"\"\"\"\"\"\n",
    "\"\"\"\"\"\"\"\"\"\"\"\"\"\"\"\"\"\"\"\"\"\"\"\"\"\"\"\"\"\"\"\"\"\"\"\"\"\"\"\"\"\"\"\"\"\"\"\"\"\"\"\"\"\"\"\"\"\"\"\"\"\"\"\"\"\"\"\"\"\"\"\"\"\"\"\"\"\"\"\"\"\"\"\"\"\"\"\"\"\"\"\"\"\"\"\"\"\"\"\"\"\"\"\"\"\"\"\"\"\"\"\"\"\""
   ]
  },
  {
   "cell_type": "code",
   "execution_count": null,
   "id": "5b45f065",
   "metadata": {},
   "outputs": [],
   "source": []
  }
 ],
 "metadata": {
  "kernelspec": {
   "display_name": "Python (py38_gpflow)",
   "language": "python",
   "name": "py38_gpflow"
  },
  "language_info": {
   "codemirror_mode": {
    "name": "ipython",
    "version": 3
   },
   "file_extension": ".py",
   "mimetype": "text/x-python",
   "name": "python",
   "nbconvert_exporter": "python",
   "pygments_lexer": "ipython3",
   "version": "3.8.12"
  }
 },
 "nbformat": 4,
 "nbformat_minor": 5
}
