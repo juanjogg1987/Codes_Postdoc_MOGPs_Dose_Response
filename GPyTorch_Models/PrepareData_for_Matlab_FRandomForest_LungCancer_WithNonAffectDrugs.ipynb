{
 "cells": [
  {
   "cell_type": "code",
   "execution_count": 1,
   "id": "859ada6a",
   "metadata": {},
   "outputs": [],
   "source": [
    "import pandas as pd\n",
    "import numpy as np\n",
    "import time\n",
    "from sklearn.metrics import r2_score\n",
    "from scipy.optimize import curve_fit\n",
    "from scipy.optimize import leastsq\n",
    "import scipy.optimize as opt\n",
    "from tqdm import tqdm\n",
    "import warnings\n",
    "warnings.filterwarnings(\"ignore\")\n",
    "\n",
    "from sklearn.kernel_ridge import KernelRidge\n",
    "from sklearn.metrics import mean_squared_error\n",
    "from sklearn.metrics import mean_absolute_error\n",
    "import gc\n",
    "\n",
    "from sklearn.model_selection import LeaveOneOut\n",
    "from sklearn.model_selection import GridSearchCV \n",
    "from sklearn.preprocessing import MinMaxScaler\n",
    "import os\n",
    "\n",
    "import scipy as sp\n",
    "\n",
    "# _FOLDER = \"/home/acq18mk/master/results/results/\"\n",
    "_FOLDER = \"/home/juanjo/Work_Postdoc/my_codes_postdoc/DrugProfiles-master/results_with_NonAffecting_Drugs/\"\n",
    "\n",
    "### Coding Part\n",
    "\n",
    "with open(_FOLDER + \"drug_ids_50.txt\", 'r') as f:\n",
    "    drug_ids_50 = [np.int32(line.rstrip('\\n')) for line in f]\n",
    "    \n",
    "# #columns to normalise:\n",
    "# with open(_FOLDER+\"columns_to_normalise.txt\", 'r') as f:\n",
    "#     columns_to_normalise = [line.rstrip('\\n') for line in f]\n",
    "# # *****************************************\n",
    "\n",
    "with open(_FOLDER+\"X_features_cancer_cell_lines.txt\", 'r') as f:\n",
    "    X_cancer_cell_lines = [line.rstrip('\\n') for line in f]\n",
    "# *****************************************\n",
    "\n",
    "with open(_FOLDER+\"X_PubChem_properties.txt\", 'r') as f:\n",
    "    X_PubChem_properties = [line.rstrip('\\n') for line in f]\n",
    "# *****************************************\n",
    "\n",
    "with open(_FOLDER+\"X_features_Targets.txt\", 'r') as f:\n",
    "    X_targets = [line.rstrip('\\n') for line in f]\n",
    "# *****************************************\n",
    "\n",
    "with open(_FOLDER+\"X_features_Target_Pathway.txt\", 'r') as f:\n",
    "    X_target_pathway = [line.rstrip('\\n') for line in f]\n",
    "# *****************************************"
   ]
  },
  {
   "cell_type": "code",
   "execution_count": 2,
   "id": "c2f68afe",
   "metadata": {},
   "outputs": [],
   "source": [
    "GDSC_Info = pd.read_csv(_FOLDER+\"Cell_list_GDSC.csv\")  #Contains info of cancer types for both GDSC1 and GDSC2"
   ]
  },
  {
   "cell_type": "code",
   "execution_count": 3,
   "id": "c53909b7",
   "metadata": {},
   "outputs": [],
   "source": [
    "df_GDSC1 = GDSC_Info[GDSC_Info[\"Dataset\"]==\"GDSC1\"] "
   ]
  },
  {
   "cell_type": "code",
   "execution_count": 4,
   "id": "da0b730a",
   "metadata": {},
   "outputs": [],
   "source": [
    "df_OneCancer = df_GDSC1[df_GDSC1[\"Tissue\"]==\"lung\"].reset_index()\n",
    "#df_OneCancer = df_GDSC1.copy().reset_index()"
   ]
  },
  {
   "cell_type": "code",
   "execution_count": 5,
   "id": "3c2a9cbf",
   "metadata": {},
   "outputs": [
    {
     "data": {
      "text/plain": [
       "687596"
      ]
     },
     "execution_count": 5,
     "metadata": {},
     "output_type": "execute_result"
    }
   ],
   "source": [
    "df_OneCancer[\"COSMICID\"][0]"
   ]
  },
  {
   "cell_type": "code",
   "execution_count": 6,
   "id": "f34c9b27",
   "metadata": {},
   "outputs": [],
   "source": [
    "all_columns = X_cancer_cell_lines + X_PubChem_properties + X_targets + X_target_pathway +[\"MAX_CONC\"]\n",
    "\n",
    "train_df = pd.read_csv(_FOLDER+\"train08_merged_fitted_sigmoid4_123_with_drugs_properties_min10.csv\").drop([\"Unnamed: 0\",\"Unnamed: 0.1\"], axis=1)\n",
    "test_df = pd.read_csv(_FOLDER+\"test02_merged_fitted_sigmoid4_123_with_drugs_properties_min10.csv\").drop([\"Unnamed: 0\",\"Unnamed: 0.1\"], axis=1)               \n",
    "\n",
    "train_df_50 = train_df.set_index(\"DRUG_ID\").loc[drug_ids_50, :].copy()\n",
    "test_df_50 = test_df.set_index(\"DRUG_ID\").loc[drug_ids_50, :].copy()\n",
    "\n",
    "datasets = [\"Dataset 1\", \"Dataset 2\", \"Dataset 3\", \"Dataset 4\"]\n",
    "\n",
    "X_feat_dict = {\"Dataset 1\": X_cancer_cell_lines ,\n",
    "               \"Dataset 2\": [\"MAX_CONC\"] + X_targets + X_target_pathway + X_cancer_cell_lines ,\n",
    "               \"Dataset 3\": [\"MAX_CONC\"] + X_PubChem_properties +  X_cancer_cell_lines,\n",
    "               \"Dataset 4\": [\"MAX_CONC\"] + X_PubChem_properties +  X_targets + X_target_pathway + X_cancer_cell_lines}\n",
    "\n",
    "### Coefficient_1\n",
    "\n",
    "train_drug = train_df_50.copy()\n",
    "test_drug = test_df_50.copy()\n",
    "  \n",
    "data_set = \"Dataset 4\" \n",
    "X_columns = X_feat_dict[data_set]"
   ]
  },
  {
   "cell_type": "code",
   "execution_count": 7,
   "id": "789fc6dd",
   "metadata": {},
   "outputs": [],
   "source": [
    "df_train_drug_new = train_drug[train_drug[\"COSMIC_ID\"]==df_OneCancer[\"COSMICID\"][0]]\n",
    "for i in range(1,df_OneCancer.shape[0]):\n",
    "    df_aux = train_drug[train_drug[\"COSMIC_ID\"]==df_OneCancer[\"COSMICID\"][i]]\n",
    "    df_train_drug_new = pd.concat([df_train_drug_new, df_aux])\n",
    "    \n",
    "df_test_drug_new = test_drug[test_drug[\"COSMIC_ID\"]==df_OneCancer[\"COSMICID\"][0]]\n",
    "for i in range(1,df_OneCancer.shape[0]):\n",
    "    df_aux = test_drug[test_drug[\"COSMIC_ID\"]==df_OneCancer[\"COSMICID\"][i]]\n",
    "    df_test_drug_new = pd.concat([df_test_drug_new, df_aux])"
   ]
  },
  {
   "cell_type": "code",
   "execution_count": 8,
   "id": "d4a7d0a7",
   "metadata": {},
   "outputs": [],
   "source": [
    "df_train_drug_new = df_train_drug_new.reset_index()\n",
    "df_test_drug_new = df_test_drug_new.reset_index()"
   ]
  },
  {
   "cell_type": "code",
   "execution_count": 9,
   "id": "fdbb4208",
   "metadata": {},
   "outputs": [
    {
     "name": "stdout",
     "output_type": "stream",
     "text": [
      "(9108, 1)\n"
     ]
    }
   ],
   "source": [
    "scaler = MinMaxScaler().fit(df_train_drug_new[X_columns])\n",
    "Xtrain_drug = scaler.transform(df_train_drug_new[X_columns])\n",
    "Xtest_drug = scaler.transform(df_test_drug_new[X_columns])\n",
    "\n",
    "y_train_drug = np.clip(df_train_drug_new[\"norm_cells_\"+str(1)].values[:,None],1.0e-9,1.0)\n",
    "y_test_drug =  np.clip(df_test_drug_new[\"norm_cells_\"+str(1)].values[:,None],1.0e-9,1.0)\n",
    "print(y_train_drug.shape)\n",
    "for i in range(2,10):\n",
    "    y_train_drug = np.concatenate((y_train_drug,np.clip(df_train_drug_new[\"norm_cells_\"+str(i)].values[:,None],1.0e-9,1.0)),1)\n",
    "    y_test_drug = np.concatenate((y_test_drug,np.clip(df_test_drug_new[\"norm_cells_\"+str(i)].values[:,None],1.0e-9,1.0)),1)    "
   ]
  },
  {
   "cell_type": "code",
   "execution_count": 10,
   "id": "eceff0e3",
   "metadata": {},
   "outputs": [],
   "source": [
    "### Training data for the GP ###\n",
    "output_dim = y_train_drug.shape[1]\n",
    "N_per_out = Xtrain_drug.shape[0]\n",
    "Xall = Xtrain_drug.copy()  #\n",
    "Yall = y_train_drug.copy()\n",
    "\n",
    "### Testing data for the GP ###\n",
    "N_per_out_test = Xtest_drug.shape[0]\n",
    "Xtest = Xtest_drug.copy()  #\n",
    "Ytest = y_test_drug.copy()"
   ]
  },
  {
   "cell_type": "code",
   "execution_count": 11,
   "id": "1bd4da2f",
   "metadata": {},
   "outputs": [
    {
     "name": "stdout",
     "output_type": "stream",
     "text": [
      "Training shape: (6831, 9)\n",
      "Validation shape: (2277, 9)\n"
     ]
    }
   ],
   "source": [
    "np.random.seed(1001)\n",
    "ind_perm = np.random.permutation(np.arange(0, Yall.shape[0]))\n",
    "perc_train = 0.75\n",
    "Ntrain = int(Yall.shape[0]*perc_train)\n",
    "#Nval = Ytrain.shape[0] - Ntrain \n",
    "Xval = Xall[ind_perm[Ntrain:],:].copy()\n",
    "Xtrain = Xall[ind_perm[0:Ntrain],:].copy()\n",
    "Yval = Yall[ind_perm[Ntrain:],:].copy()\n",
    "Ytrain = Yall[ind_perm[0:Ntrain],:].copy()\n",
    "print(\"Training shape:\", Ytrain.shape)\n",
    "print(\"Validation shape:\", Yval.shape)"
   ]
  },
  {
   "cell_type": "code",
   "execution_count": 14,
   "id": "45743109",
   "metadata": {},
   "outputs": [],
   "source": [
    "path_to_save = \"/home/juanjo/Work_Postdoc/Bench_Mark_DrugResponse_Models/Functional-Random-forest-master/\"\n",
    "np.savetxt(path_to_save+\"Xtrain.csv\", Xtrain, delimiter=\",\")\n",
    "np.savetxt(path_to_save+\"Ytrain.csv\", Ytrain, delimiter=\",\")\n",
    "np.savetxt(path_to_save+\"Xtest.csv\", Xtest, delimiter=\",\")\n",
    "np.savetxt(path_to_save+\"Ytest.csv\", Ytest, delimiter=\",\")"
   ]
  },
  {
   "cell_type": "code",
   "execution_count": 13,
   "id": "b55c18fb",
   "metadata": {},
   "outputs": [
    {
     "data": {
      "text/plain": [
       "(2262, 1352)"
      ]
     },
     "execution_count": 13,
     "metadata": {},
     "output_type": "execute_result"
    }
   ],
   "source": []
  },
  {
   "cell_type": "code",
   "execution_count": null,
   "id": "c50f393c",
   "metadata": {},
   "outputs": [],
   "source": []
  }
 ],
 "metadata": {
  "kernelspec": {
   "display_name": "Python (py38_gpflow)",
   "language": "python",
   "name": "py38_gpflow"
  },
  "language_info": {
   "codemirror_mode": {
    "name": "ipython",
    "version": 3
   },
   "file_extension": ".py",
   "mimetype": "text/x-python",
   "name": "python",
   "nbconvert_exporter": "python",
   "pygments_lexer": "ipython3",
   "version": "3.8.12"
  }
 },
 "nbformat": 4,
 "nbformat_minor": 5
}
