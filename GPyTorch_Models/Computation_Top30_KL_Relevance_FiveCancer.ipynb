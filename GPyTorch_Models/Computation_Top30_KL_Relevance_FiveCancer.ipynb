{
 "cells": [
  {
   "cell_type": "code",
   "execution_count": 9,
   "id": "fc645fbf",
   "metadata": {},
   "outputs": [
    {
     "name": "stdout",
     "output_type": "stream",
     "text": [
      "Train Name in Nfold 0: Breast_train_GMLcLa_updated.csv\n",
      "Test Name in Nfold 0: Breast_test_updated.csv\n",
      "854\n",
      "ABCB1_mut\n"
     ]
    }
   ],
   "source": [
    "import matplotlib.pyplot as plt\n",
    "import numpy as np\n",
    "import pandas as pd\n",
    "\n",
    "import warnings\n",
    "warnings.filterwarnings(\"ignore\")\n",
    "\n",
    "import os\n",
    "\n",
    "# _FOLDER = \"/home/ac1jjgg/MOGP_GPyTorch/FiveCancersDataSet/\"\n",
    "_FOLDER = \"/home/juanjo/Work_Postdoc/my_codes_postdoc/GPyTorch_Models/FiveCancersDataSet/\"\n",
    "\"\"\"\"\"\"\"\"\"\"\"\"\"\"\"\"\"\"\"\"\"\"\"\"\"\"\"\"\"\"\"\"\"\"\"\"\"\"\"\"\"\"\"\"\"\"\"\"\"\"\"\"\"\"\"\"\"\"\"\"\"\"\"\"\"\"\"\"\"\"\"\"\"\"\"\"\"\"\"\"\"\"\"\"\"\"\"\"\"\"\"\"\"\"\"\"\"\"\"\"\"\"\"\"\"\n",
    "\"\"\"\"\"\"\"\"\"\"\"\"\"\"\"\"\"\"\"\"\"\"\"\"\"\"\"\"\"\"\"\"\"\"\"\"\"\"\"\"\"\"\"\"\"\"\"\"\"\"\"\"\"\"\"\"\"\"\"\"\"\"\"\"\"\"\"\"\"\"\"\"\"\"\"\"\"\"\"\"\"\"\"\"\"\"\"\"\"\"\"\"\"\"\"\"\"\"\"\"\"\"\"\"\"\n",
    "Train_names = ['Breast_train_GMLcLa_updated.csv', 'Glioma_train_BMLcLa_updated.csv',\n",
    "               'LungAdenocarcinoma_train_BGMLc_updated.csv', 'LungCarcinoma_train_BGMLa_updated.csv',\n",
    "               'Melanoma_train_BGLcLa_updated.csv']\n",
    "Test_names = ['Breast_test_updated.csv', 'Glioma_test_updated.csv', 'Lung_adenocarcinoma_test_updated.csv',\n",
    "              'Lung_carcinoma_test_updated.csv', 'Melanoma_test_updated.csv']\n",
    "\n",
    "name_for_KLrelevance = 'Melanoma_BRAF_Targeted_Drugs.csv'\n",
    "\n",
    "How_Many_Nfold = 1\n",
    "for Nfold in range(0, How_Many_Nfold):\n",
    "    print(f\"Train Name in Nfold {Nfold}:\", Train_names[Nfold])\n",
    "    print(f\"Test Name in Nfold {Nfold}:\", Test_names[Nfold])\n",
    "    df_train_No_MolecForm = pd.read_csv(\n",
    "        _FOLDER + \"Train/\" + Train_names[Nfold])  # Contain Train dataset prepared by Subhashini-Evelyn\n",
    "    df_test_No_MolecForm = pd.read_csv(\n",
    "        _FOLDER + \"/Test/\" + Test_names[Nfold])  # Contain Test dataset prepared by Subhashini-Evelyn\n",
    "\n",
    "    \"\"\"\"\"\"\"\"\"\"\"\"\"\"\"\"\"\"\"\"\"\"\"\"\"\"\"\"\"\"\"\"\"\"\"\"\"\"\"\"\"\"\"\"\"\"\"\"\"\"\"\"\"\"\"\"\"\"\"\"\"\"\"\"\"\"\"\"\"\"\"\"\"\"\"\"\"\"\"\"\"\"\"\"\"\"\"\"\"\"\"\"\"\"\"\"\"\"\"\"\"\"\"\"\"\"\"\"\"\"\"\"\"\"\n",
    "    \"\"\"\"\"\"\"\"\"\"\"\"\"\"\"\"\"\"\"\"\"\"\"\"\"\"\"\"\"\"\"\"\"\"\"\"\"\"\"\"\"\"\"\"\"\"\"\"\"\"\"\"\"\"\"\"\"\"\"\"\"\"\"\"\"\"\"\"\"\"\"\"\"\"\"\"\"\"\"\"\"\"\"\"\"\"\"\"\"\"\"\"\"\"\"\"\"\"\"\"\"\"\"\"\"\"\"\"\"\"\"\"\"\"\n",
    "    # we realised that the column \"molecular_formula\" is a string like\n",
    "    # The updated files by subhashini do not have 'molecular_formula' anymore\n",
    "    # df_train_No_MolecForm = df_train.drop(columns='molecular_formula')\n",
    "    # df_test_No_MolecForm = df_test.drop(columns='molecular_formula')\n",
    "    \"\"\"\"\"\"\"\"\"\"\"\"\"\"\"\"\"\"\"\"\"\"\"\"\"\"\"\"\"\"\"\"\"\"\"\"\"\"\"\"\"\"\"\"\"\"\"\"\"\"\"\"\"\"\"\"\"\"\"\"\"\"\"\"\"\"\"\"\"\"\"\"\"\"\"\"\"\"\"\"\"\"\"\"\"\"\"\"\"\"\"\"\"\"\"\"\"\"\"\"\"\"\"\"\"\"\"\"\"\"\"\"\"\"\n",
    "    \"\"\"\"\"\"\"\"\"\"\"\"\"\"\"\"\"\"\"\"\"\"\"\"\"\"\"\"\"\"\"\"\"\"\"\"\"\"\"\"\"\"\"\"\"\"\"\"\"\"\"\"\"\"\"\"\"\"\"\"\"\"\"\"\"\"\"\"\"\"\"\"\"\"\"\"\"\"\"\"\"\"\"\"\"\"\"\"\"\"\"\"\"\"\"\"\"\"\"\"\"\"\"\"\"\"\"\"\"\"\"\"\"\"\n",
    "    try:\n",
    "        df_train_No_MolecForm = df_train_No_MolecForm.drop(columns='Drug_Name')\n",
    "    except:\n",
    "        pass\n",
    "\n",
    "    try:\n",
    "        df_test_No_MolecForm = df_test_No_MolecForm.drop(columns='Drug_Name')\n",
    "    except:\n",
    "        pass\n",
    "\n",
    "    print((df_train_No_MolecForm.columns == df_test_No_MolecForm.columns).sum())\n",
    "    # Here we just check that from the column index 28 the input features start\n",
    "    print(df_train_No_MolecForm.columns[28])"
   ]
  },
  {
   "cell_type": "code",
   "execution_count": 10,
   "id": "ac85ec43",
   "metadata": {},
   "outputs": [
    {
     "name": "stdout",
     "output_type": "stream",
     "text": [
      "(68, 826)\n"
     ]
    },
    {
     "data": {
      "image/png": "[encoded data removed]",
      "text/plain": [
       "<Figure size 432x288 with 1 Axes>"
      ]
     },
     "metadata": {
      "needs_background": "light"
     },
     "output_type": "display_data"
    }
   ],
   "source": [
    "df_melanoma = pd.read_csv(_FOLDER+name_for_KLrelevance)\n",
    "#df_KLRelevance_Mtx = pd.read_csv(_FOLDER+'Relevance_KL_HPC_Melanoma.txt', names=[\"col\"+str(i) for i in range(df_train_No_MolecForm.shape[0]+1)])\n",
    "df_KLRelevance_Mtx = pd.read_csv(_FOLDER+'Relevance_KL_HPC_Melanoma.txt', names=[\"col\"+str(i) for i in range(df_melanoma.shape[0]+1)])\n",
    "df_sorted = df_KLRelevance_Mtx.sort_values(by=['col0'])\n",
    "KL_Relevance = df_sorted.values\n",
    "KL_Relevance = KL_Relevance[:,1:].T  #We getrid of first index position\n",
    "print(KL_Relevance.shape)\n",
    "KL_p = np.mean(KL_Relevance,0)\n",
    "plt.bar(np.arange(0,826),KL_p/KL_p.max())\n",
    "\n",
    "df_KLR_With_Column_Names = pd.DataFrame(KL_p[None,:]/KL_p.max(), columns=df_train_No_MolecForm.columns[28:])\n",
    "df_KL_Col_Names_Sorted = df_KLR_With_Column_Names.sort_values(by= 0,axis=1,ascending = False)"
   ]
  },
  {
   "cell_type": "code",
   "execution_count": 20,
   "id": "3d13b3db",
   "metadata": {},
   "outputs": [
    {
     "data": {
      "text/html": [
       "<div>\n",
       "<style scoped>\n",
       "    .dataframe tbody tr th:only-of-type {\n",
       "        vertical-align: middle;\n",
       "    }\n",
       "\n",
       "    .dataframe tbody tr th {\n",
       "        vertical-align: top;\n",
       "    }\n",
       "\n",
       "    .dataframe thead th {\n",
       "        text-align: right;\n",
       "    }\n",
       "</style>\n",
       "<table border=\"1\" class=\"dataframe\">\n",
       "  <thead>\n",
       "    <tr style=\"text-align: right;\">\n",
       "      <th></th>\n",
       "      <th>ABCB1_mut</th>\n",
       "      <th>ACACA_mut</th>\n",
       "      <th>ACVR2A_mut</th>\n",
       "      <th>AFF4_mut</th>\n",
       "      <th>AHCTF1_mut</th>\n",
       "      <th>AHNAK_mut</th>\n",
       "      <th>AKAP9_mut</th>\n",
       "      <th>ALK_mut</th>\n",
       "      <th>ANK3_mut</th>\n",
       "      <th>APAF1_mut</th>\n",
       "      <th>...</th>\n",
       "      <th>MEK5</th>\n",
       "      <th>ERK5</th>\n",
       "      <th>RSK</th>\n",
       "      <th>Farnesyl-transferase (FNTA)</th>\n",
       "      <th>EGFR</th>\n",
       "      <th>EGFR signaling</th>\n",
       "      <th>ERK MAPK signaling</th>\n",
       "      <th>Other</th>\n",
       "      <th>Other, kinases</th>\n",
       "      <th>PI3K/MTOR signaling</th>\n",
       "    </tr>\n",
       "  </thead>\n",
       "  <tbody>\n",
       "    <tr>\n",
       "      <th>0</th>\n",
       "      <td>0.398148</td>\n",
       "      <td>0.407105</td>\n",
       "      <td>0.396755</td>\n",
       "      <td>0.384224</td>\n",
       "      <td>0.411345</td>\n",
       "      <td>0.378836</td>\n",
       "      <td>0.392964</td>\n",
       "      <td>0.431224</td>\n",
       "      <td>0.405652</td>\n",
       "      <td>0.394255</td>\n",
       "      <td>...</td>\n",
       "      <td>0.972649</td>\n",
       "      <td>0.986029</td>\n",
       "      <td>0.961879</td>\n",
       "      <td>0.965536</td>\n",
       "      <td>0.980565</td>\n",
       "      <td>0.96726</td>\n",
       "      <td>0.975436</td>\n",
       "      <td>0.964498</td>\n",
       "      <td>0.96422</td>\n",
       "      <td>0.409144</td>\n",
       "    </tr>\n",
       "  </tbody>\n",
       "</table>\n",
       "<p>1 rows × 826 columns</p>\n",
       "</div>"
      ],
      "text/plain": [
       "   ABCB1_mut  ACACA_mut  ACVR2A_mut  AFF4_mut  AHCTF1_mut  AHNAK_mut  \\\n",
       "0   0.398148   0.407105    0.396755  0.384224    0.411345   0.378836   \n",
       "\n",
       "   AKAP9_mut   ALK_mut  ANK3_mut  APAF1_mut  ...      MEK5      ERK5  \\\n",
       "0   0.392964  0.431224  0.405652   0.394255  ...  0.972649  0.986029   \n",
       "\n",
       "        RSK  Farnesyl-transferase (FNTA)      EGFR  EGFR signaling  \\\n",
       "0  0.961879                     0.965536  0.980565         0.96726   \n",
       "\n",
       "   ERK MAPK signaling     Other  Other, kinases  PI3K/MTOR signaling  \n",
       "0            0.975436  0.964498         0.96422             0.409144  \n",
       "\n",
       "[1 rows x 826 columns]"
      ]
     },
     "execution_count": 20,
     "metadata": {},
     "output_type": "execute_result"
    }
   ],
   "source": [
    "#df_KLRelevance_Mtx\n",
    "#df_sorted\n",
    "#df_sorted.values.shape\n",
    "df_KLR_With_Column_Names"
   ]
  },
  {
   "cell_type": "code",
   "execution_count": 11,
   "id": "86be92d6",
   "metadata": {
    "scrolled": false
   },
   "outputs": [
    {
     "data": {
      "text/plain": [
       "FBXW7_mut                                   1.000000\n",
       "loss:cnaPANCAN79                            0.995673\n",
       "loss:cnaPANCAN72                            0.995443\n",
       "loss:cnaPANCAN114 (CIITA)                   0.993501\n",
       "PLCG1_mut                                   0.992396\n",
       "NCOR1_mut                                   0.992238\n",
       "PCSK5_mut                                   0.991555\n",
       "PTPRU_mut                                   0.991414\n",
       "chr2:219646432-219647181(CYP27A1)_HypMET    0.991389\n",
       "gain:cnaPANCAN87                            0.990771\n",
       "loss:cnaPANCAN307 (CHD3,GPS2,TP53)          0.990594\n",
       "KALRN_mut                                   0.990498\n",
       "FAM123B_mut                                 0.990140\n",
       "gain:cnaPANCAN123                           0.989350\n",
       "loss:cnaPANCAN218                           0.989264\n",
       "chr2:190539026-190539533(ANKAR)_HypMET      0.988940\n",
       "loss:cnaPANCAN310 (MAP2K4)                  0.988814\n",
       "chr8:144659745-144660635(NAPRT1)_HypMET     0.988689\n",
       "loss:cnaPANCAN216                           0.988498\n",
       "loss:cnaPANCAN93                            0.988432\n",
       "PTPN11_mut                                  0.988325\n",
       "ERK2                                        0.987968\n",
       "loss:cnaPANCAN304                           0.987644\n",
       "chr20:42543097-42545137(TOX2)_HypMET        0.987592\n",
       "FN1_mut                                     0.987530\n",
       "TAF1_mut                                    0.987250\n",
       "loss:cnaPANCAN412                           0.986740\n",
       "chr3:101568107-101569046(NFKBIZ)_HypMET     0.986552\n",
       "MSR1_mut                                    0.986494\n",
       "chr16:56665945-56666641(MT1M)_HypMET        0.986439\n",
       "dtype: float64"
      ]
     },
     "execution_count": 11,
     "metadata": {},
     "output_type": "execute_result"
    }
   ],
   "source": [
    "#Top 30 most important features out of 826 features\n",
    "df_KL_Col_Names_Sorted[df_KL_Col_Names_Sorted.columns[0:30]].min()"
   ]
  },
  {
   "cell_type": "code",
   "execution_count": 12,
   "id": "c4d1bcf4",
   "metadata": {},
   "outputs": [
    {
     "data": {
      "text/plain": [
       "loss:cnaPANCAN255                          0.383995\n",
       "loss:cnaPANCAN200                          0.383798\n",
       "BRAF_mut                                   0.383535\n",
       "CTNNB1_mut                                 0.383209\n",
       "N                                          0.383107\n",
       "gain:cnaPANCAN383                          0.382747\n",
       "loss:cnaPANCAN262 (FOXP1)                  0.382482\n",
       "loss:cnaPANCAN358                          0.382321\n",
       "loss:cnaPANCAN400                          0.382184\n",
       "loss:cnaPANCAN257                          0.381992\n",
       "loss:cnaPANCAN261                          0.381886\n",
       "chr6:26188997-26189295(HIST1H4D)_HypMET    0.381750\n",
       "BRWD1_mut                                  0.381345\n",
       "loss:cnaPANCAN24                           0.381060\n",
       "ZNF292_mut                                 0.381040\n",
       "ASXL2_mut                                  0.381005\n",
       "gain:cnaPANCAN176 (CCT5,TERT,TRIO)         0.380064\n",
       "chr10:94351356-94351615(KIF11)_HypMET      0.379478\n",
       "chr15:93198374-93199181(FAM174B)_HypMET    0.379443\n",
       "AHNAK_mut                                  0.378836\n",
       "TSC1_mut                                   0.378381\n",
       "chr14:61188116-61190772(SIX4)_HypMET       0.378291\n",
       "ARFGAP3_mut                                0.377646\n",
       "gain:cnaPANCAN178                          0.376430\n",
       "chr14:24457864-24458100(DHRS4L2)_HypMET    0.374257\n",
       "loss:cnaPANCAN326 (SOX9)                   0.373664\n",
       "TP53BP1_mut                                0.372486\n",
       "loss:cnaPANCAN175                          0.371552\n",
       "gain:cnaPANCAN345                          0.370358\n",
       "STAG2_mut                                  0.367692\n",
       "dtype: float64"
      ]
     },
     "execution_count": 12,
     "metadata": {},
     "output_type": "execute_result"
    }
   ],
   "source": [
    "#Top 30 least important features out of 826 features\n",
    "df_KL_Col_Names_Sorted[df_KL_Col_Names_Sorted.columns[-30:]].min()"
   ]
  },
  {
   "cell_type": "code",
   "execution_count": null,
   "id": "44714953",
   "metadata": {},
   "outputs": [],
   "source": []
  }
 ],
 "metadata": {
  "kernelspec": {
   "display_name": "Python (py38_gpflow)",
   "language": "python",
   "name": "py38_gpflow"
  },
  "language_info": {
   "codemirror_mode": {
    "name": "ipython",
    "version": 3
   },
   "file_extension": ".py",
   "mimetype": "text/x-python",
   "name": "python",
   "nbconvert_exporter": "python",
   "pygments_lexer": "ipython3",
   "version": "3.8.12"
  }
 },
 "nbformat": 4,
 "nbformat_minor": 5
}
