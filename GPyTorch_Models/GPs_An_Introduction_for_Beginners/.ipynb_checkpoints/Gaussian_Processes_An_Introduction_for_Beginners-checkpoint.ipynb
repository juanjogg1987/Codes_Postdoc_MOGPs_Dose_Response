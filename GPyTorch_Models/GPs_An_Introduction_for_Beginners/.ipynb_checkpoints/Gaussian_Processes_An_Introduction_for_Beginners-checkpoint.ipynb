{
 "cells": [
  {
   "cell_type": "code",
   "execution_count": 208,
   "id": "2c05b177",
   "metadata": {},
   "outputs": [
    {
     "data": {
      "text/plain": [
       "(-4.0, 4.0)"
      ]
     },
     "execution_count": 208,
     "metadata": {},
     "output_type": "execute_result"
    },
    {
     "data": {
      "image/png": "[encoded data removed]",
      "text/plain": [
       "<Figure size 432x288 with 1 Axes>"
      ]
     },
     "metadata": {
      "needs_background": "light"
     },
     "output_type": "display_data"
    }
   ],
   "source": [
    "import torch\n",
    "import matplotlib.pyplot as plt\n",
    "\n",
    "pdist = torch.normal(0,0.01, size=(1, 10000))\n",
    "plt.hist(pdist,bins=100)\n",
    "\n",
    "plt.xlim([-4,4])"
   ]
  },
  {
   "cell_type": "code",
   "execution_count": 139,
   "id": "949cf448",
   "metadata": {},
   "outputs": [
    {
     "name": "stdout",
     "output_type": "stream",
     "text": [
      "[1.39341342]\n"
     ]
    },
    {
     "data": {
      "text/plain": [
       "(-1.0, 15.811388300841898)"
      ]
     },
     "execution_count": 139,
     "metadata": {},
     "output_type": "execute_result"
    },
    {
     "data": {
      "image/png": "[encoded data removed]",
      "text/plain": [
       "<Figure size 432x288 with 1 Axes>"
      ]
     },
     "metadata": {
      "needs_background": "light"
     },
     "output_type": "display_data"
    }
   ],
   "source": [
    "from scipy.stats import norm\n",
    "import numpy as np\n",
    "\n",
    "f = lambda x:2*np.cos(4*x)\n",
    "x = np.array([0.2]) \n",
    "#x = torch.linspace(0,1,1)[:,None]\n",
    "#x = torch.rand(10)[:,None]\n",
    "y = f(x) \n",
    "#torch.sin(x)\n",
    "plt.plot(x,y,'ko')\n",
    "print(y)\n",
    "\n",
    "xrange = np.linspace(-2,5,10000)\n",
    "sig2 = 0.001  \n",
    "pdf = norm.pdf(xrange,loc=y.flatten(),scale=np.sqrt(sig2))\n",
    "#plt.plot(x,pdf)\n",
    "plt.plot(pdf+x,xrange,alpha=0.5)\n",
    "plt.xlim([-1,0.5/np.sqrt(sig2)])"
   ]
  },
  {
   "cell_type": "code",
   "execution_count": 64,
   "id": "f963b27c",
   "metadata": {},
   "outputs": [
    {
     "name": "stdout",
     "output_type": "stream",
     "text": [
      "tensor([[2.]])\n"
     ]
    },
    {
     "data": {
      "image/png": "[encoded data removed]",
      "text/plain": [
       "<Figure size 432x288 with 1 Axes>"
      ]
     },
     "metadata": {
      "needs_background": "light"
     },
     "output_type": "display_data"
    }
   ],
   "source": []
  },
  {
   "cell_type": "code",
   "execution_count": 202,
   "id": "c84a1e54",
   "metadata": {
    "scrolled": true
   },
   "outputs": [
    {
     "name": "stdout",
     "output_type": "stream",
     "text": [
      "[[ 2.        ]\n",
      " [ 1.99836774]\n",
      " [ 1.99347361]\n",
      " [ 1.9853256 ]\n",
      " [ 1.97393702]\n",
      " [ 1.95932645]\n",
      " [ 1.94151774]\n",
      " [ 1.92053997]\n",
      " [ 1.89642736]\n",
      " [ 1.86921928]\n",
      " [ 1.83896015]\n",
      " [ 1.80569934]\n",
      " [ 1.76949115]\n",
      " [ 1.73039469]\n",
      " [ 1.68847377]\n",
      " [ 1.64379681]\n",
      " [ 1.59643673]\n",
      " [ 1.54647086]\n",
      " [ 1.49398073]\n",
      " [ 1.43905203]\n",
      " [ 1.38177442]\n",
      " [ 1.32224138]\n",
      " [ 1.2605501 ]\n",
      " [ 1.19680127]\n",
      " [ 1.13109894]\n",
      " [ 1.06355036]\n",
      " [ 0.99426578]\n",
      " [ 0.9233583 ]\n",
      " [ 0.85094366]\n",
      " [ 0.77714005]\n",
      " [ 0.70206794]\n",
      " [ 0.62584987]\n",
      " [ 0.54861025]\n",
      " [ 0.47047515]\n",
      " [ 0.39157211]\n",
      " [ 0.31202992]\n",
      " [ 0.23197842]\n",
      " [ 0.15154826]\n",
      " [ 0.07087074]\n",
      " [-0.00992246]\n",
      " [-0.09069946]\n",
      " [-0.17132842]\n",
      " [-0.25167772]\n",
      " [-0.33161623]\n",
      " [-0.41101344]\n",
      " [-0.48973977]\n",
      " [-0.56766672]\n",
      " [-0.64466709]\n",
      " [-0.72061519]\n",
      " [-0.79538705]\n",
      " [-0.86886063]\n",
      " [-0.940916  ]\n",
      " [-1.01143555]\n",
      " [-1.08030417]\n",
      " [-1.14740944]\n",
      " [-1.21264184]\n",
      " [-1.27589489]\n",
      " [-1.33706534]\n",
      " [-1.39605335]\n",
      " [-1.45276263]\n",
      " [-1.50710061]\n",
      " [-1.55897861]\n",
      " [-1.60831194]\n",
      " [-1.65502009]\n",
      " [-1.6990268 ]\n",
      " [-1.74026025]\n",
      " [-1.77865314]\n",
      " [-1.81414279]\n",
      " [-1.84667128]\n",
      " [-1.87618552]\n",
      " [-1.90263733]\n",
      " [-1.92598353]\n",
      " [-1.94618601]\n",
      " [-1.96321181]\n",
      " [-1.97703312]\n",
      " [-1.9876274 ]\n",
      " [-1.99497734]\n",
      " [-1.99907095]\n",
      " [-1.99990154]\n",
      " [-1.99746777]\n",
      " [-1.99177361]\n",
      " [-1.98282834]\n",
      " [-1.97064657]\n",
      " [-1.95524819]\n",
      " [-1.93665832]\n",
      " [-1.91490732]\n",
      " [-1.89003068]\n",
      " [-1.86206901]\n",
      " [-1.83106795]\n",
      " [-1.79707811]\n",
      " [-1.76015495]\n",
      " [-1.72035876]\n",
      " [-1.67775449]\n",
      " [-1.63241168]\n",
      " [-1.58440435]\n",
      " [-1.53381084]\n",
      " [-1.48071375]\n",
      " [-1.42519975]\n",
      " [-1.36735944]\n",
      " [-1.30728724]]\n"
     ]
    },
    {
     "data": {
      "image/png": "[encoded data removed]",
      "text/plain": [
       "<Figure size 432x288 with 1 Axes>"
      ]
     },
     "metadata": {
      "needs_background": "light"
     },
     "output_type": "display_data"
    }
   ],
   "source": [
    "f = lambda x:2*np.cos(4*x)\n",
    "#x = torch.tensor([0.2]) \n",
    "x = np.linspace(0,1,100)[:,None]\n",
    "#x = torch.rand(10)[:,None]\n",
    "y = f(x) \n",
    "#torch.sin(x)\n",
    "plt.plot(x,y,'ko')\n",
    "print(y)"
   ]
  },
  {
   "cell_type": "code",
   "execution_count": 203,
   "id": "9529d6de",
   "metadata": {},
   "outputs": [
    {
     "name": "stdout",
     "output_type": "stream",
     "text": [
      "mean:\n",
      "[[ 2.        ]\n",
      " [ 1.99836774]\n",
      " [ 1.99347361]\n",
      " [ 1.9853256 ]\n",
      " [ 1.97393702]\n",
      " [ 1.95932645]\n",
      " [ 1.94151774]\n",
      " [ 1.92053997]\n",
      " [ 1.89642736]\n",
      " [ 1.86921928]\n",
      " [ 1.83896015]\n",
      " [ 1.80569934]\n",
      " [ 1.76949115]\n",
      " [ 1.73039469]\n",
      " [ 1.68847377]\n",
      " [ 1.64379681]\n",
      " [ 1.59643673]\n",
      " [ 1.54647086]\n",
      " [ 1.49398073]\n",
      " [ 1.43905203]\n",
      " [ 1.38177442]\n",
      " [ 1.32224138]\n",
      " [ 1.2605501 ]\n",
      " [ 1.19680127]\n",
      " [ 1.13109894]\n",
      " [ 1.06355036]\n",
      " [ 0.99426578]\n",
      " [ 0.9233583 ]\n",
      " [ 0.85094366]\n",
      " [ 0.77714005]\n",
      " [ 0.70206794]\n",
      " [ 0.62584987]\n",
      " [ 0.54861025]\n",
      " [ 0.47047515]\n",
      " [ 0.39157211]\n",
      " [ 0.31202992]\n",
      " [ 0.23197842]\n",
      " [ 0.15154826]\n",
      " [ 0.07087074]\n",
      " [-0.00992246]\n",
      " [-0.09069946]\n",
      " [-0.17132842]\n",
      " [-0.25167772]\n",
      " [-0.33161623]\n",
      " [-0.41101344]\n",
      " [-0.48973977]\n",
      " [-0.56766672]\n",
      " [-0.64466709]\n",
      " [-0.72061519]\n",
      " [-0.79538705]\n",
      " [-0.86886063]\n",
      " [-0.940916  ]\n",
      " [-1.01143555]\n",
      " [-1.08030417]\n",
      " [-1.14740944]\n",
      " [-1.21264184]\n",
      " [-1.27589489]\n",
      " [-1.33706534]\n",
      " [-1.39605335]\n",
      " [-1.45276263]\n",
      " [-1.50710061]\n",
      " [-1.55897861]\n",
      " [-1.60831194]\n",
      " [-1.65502009]\n",
      " [-1.6990268 ]\n",
      " [-1.74026025]\n",
      " [-1.77865314]\n",
      " [-1.81414279]\n",
      " [-1.84667128]\n",
      " [-1.87618552]\n",
      " [-1.90263733]\n",
      " [-1.92598353]\n",
      " [-1.94618601]\n",
      " [-1.96321181]\n",
      " [-1.97703312]\n",
      " [-1.9876274 ]\n",
      " [-1.99497734]\n",
      " [-1.99907095]\n",
      " [-1.99990154]\n",
      " [-1.99746777]\n",
      " [-1.99177361]\n",
      " [-1.98282834]\n",
      " [-1.97064657]\n",
      " [-1.95524819]\n",
      " [-1.93665832]\n",
      " [-1.91490732]\n",
      " [-1.89003068]\n",
      " [-1.86206901]\n",
      " [-1.83106795]\n",
      " [-1.79707811]\n",
      " [-1.76015495]\n",
      " [-1.72035876]\n",
      " [-1.67775449]\n",
      " [-1.63241168]\n",
      " [-1.58440435]\n",
      " [-1.53381084]\n",
      " [-1.48071375]\n",
      " [-1.42519975]\n",
      " [-1.36735944]\n",
      " [-1.30728724]]\n",
      "\n",
      "Covarianza:\n",
      "[[0.05       0.0499745  0.04989807 ... 0.00041148 0.00037252 0.0003369 ]\n",
      " [0.0499745  0.05       0.0499745  ... 0.00045405 0.00041148 0.00037252]\n",
      " [0.04989807 0.0499745  0.05       ... 0.00050052 0.00045405 0.00041148]\n",
      " ...\n",
      " [0.00041148 0.00045405 0.00050052 ... 0.05       0.0499745  0.04989807]\n",
      " [0.00037252 0.00041148 0.00045405 ... 0.0499745  0.05       0.0499745 ]\n",
      " [0.0003369  0.00037252 0.00041148 ... 0.04989807 0.0499745  0.05      ]]\n"
     ]
    }
   ],
   "source": [
    "def covar(x1):\n",
    "    x2 = x1.copy()\n",
    "    x1_m,x2_m = np.meshgrid(x1,x2)\n",
    "    kxx = 0.05*np.exp(-0.5/(0.1)*(x1_m-x2_m)**2)\n",
    "    return kxx\n",
    "\n",
    "cov = covar(x)\n",
    "print(f\"mean:\\n{y}\\n\")\n",
    "print(f\"Covarianza:\\n{cov}\")"
   ]
  },
  {
   "cell_type": "code",
   "execution_count": 204,
   "id": "415b876d",
   "metadata": {},
   "outputs": [
    {
     "data": {
      "image/png": "[encoded data removed]",
      "text/plain": [
       "<Figure size 432x288 with 1 Axes>"
      ]
     },
     "metadata": {
      "needs_background": "light"
     },
     "output_type": "display_data"
    }
   ],
   "source": [
    "Nsamples = 10\n",
    "for i in range(Nsamples):\n",
    "    ysample = np.random.multivariate_normal(y.flatten(), cov)\n",
    "    plt.plot(x,ysample,'o',alpha=0.7)"
   ]
  },
  {
   "cell_type": "code",
   "execution_count": 167,
   "id": "7a50c5f5",
   "metadata": {},
   "outputs": [
    {
     "data": {
      "text/plain": [
       "(10, 10)"
      ]
     },
     "execution_count": 167,
     "metadata": {},
     "output_type": "execute_result"
    }
   ],
   "source": [
    "cov.shape"
   ]
  },
  {
   "cell_type": "code",
   "execution_count": null,
   "id": "618229f0",
   "metadata": {},
   "outputs": [],
   "source": []
  }
 ],
 "metadata": {
  "kernelspec": {
   "display_name": "Python (py38_gpflow)",
   "language": "python",
   "name": "py38_gpflow"
  },
  "language_info": {
   "codemirror_mode": {
    "name": "ipython",
    "version": 3
   },
   "file_extension": ".py",
   "mimetype": "text/x-python",
   "name": "python",
   "nbconvert_exporter": "python",
   "pygments_lexer": "ipython3",
   "version": "3.8.12"
  }
 },
 "nbformat": 4,
 "nbformat_minor": 5
}
