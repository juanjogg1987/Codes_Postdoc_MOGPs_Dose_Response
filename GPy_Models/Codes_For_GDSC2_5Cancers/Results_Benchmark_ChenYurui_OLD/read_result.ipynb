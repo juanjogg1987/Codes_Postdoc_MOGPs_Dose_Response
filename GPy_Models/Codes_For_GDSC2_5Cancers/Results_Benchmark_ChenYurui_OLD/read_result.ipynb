{
 "cells": [
  {
   "cell_type": "code",
   "execution_count": 1,
   "metadata": {},
   "outputs": [],
   "source": [
    "import os \n",
    "import numpy as np\n",
    "import pandas as pd"
   ]
  },
  {
   "cell_type": "code",
   "execution_count": 2,
   "metadata": {},
   "outputs": [],
   "source": [
    "def list_files(path):\n",
    "    \"\"\"\n",
    "    Lists all files in the given directory path.\n",
    "\n",
    "    :param path: The path to the directory whose files are to be listed.\n",
    "    :return: A list of file names.\n",
    "    \"\"\"\n",
    "    files = [f.name for f in os.scandir(path) if f.is_file()]\n",
    "    return files\n",
    "def list_subfolders(path):\n",
    "    \"\"\"\n",
    "    Lists all subfolders in the given directory path.\n",
    "\n",
    "    :param path: The path to the directory whose subfolders are to be listed.\n",
    "    :return: A list of subfolder names.\n",
    "    \"\"\"\n",
    "    subfolders = [f.name for f in os.scandir(path) if f.is_dir()]\n",
    "    return subfolders\n"
   ]
  },
  {
   "cell_type": "code",
   "execution_count": 16,
   "metadata": {},
   "outputs": [],
   "source": [
    "def sort_results(model, cancer):\n",
    "    file_name = './' + model + '/' + cancer\n",
    "    df = pd.read_csv(file_name)\n",
    "    df[['metric', 'num', 'seed']] = df['metric_num_seed'].str.split('_', expand=True)\n",
    "    # Convert 'num' and 'seed' to integers for proper numeric sorting\n",
    "    df['num'] = df['num'].astype(int)\n",
    "    df['seed'] = df['seed'].astype(int)\n",
    "\n",
    "    # Sort by 'metric' alphabetically, then 'num' and 'seed' numerically\n",
    "    df_sorted = df.sort_values(by=['metric', 'num', 'seed'])\n",
    "\n",
    "    # If you want to keep only the original columns in the sorted DataFrame\n",
    "    df_sorted = df_sorted[['metric_num_seed', 'test_mae', 'test_rmse']].reset_index(drop=True)\n",
    "    df_sorted.to_csv(file_name, index=False)\n",
    "    n_rows_df = df_sorted.shape[0]\n",
    "    print(f'Model {model} and cancer {cancer} results have been sorted and saved to {file_name} with {n_rows_df} experiments.')"
   ]
  },
  {
   "cell_type": "code",
   "execution_count": 18,
   "metadata": {},
   "outputs": [
    {
     "name": "stdout",
     "output_type": "stream",
     "text": [
      "Model NeRD and cancer SCLC.csv results have been sorted and saved to ./NeRD/SCLC.csv with 108 experiments.\n",
      "Model NeRD and cancer LUAD.csv results have been sorted and saved to ./NeRD/LUAD.csv with 108 experiments.\n",
      "Model NeRD and cancer melanoma.csv results have been sorted and saved to ./NeRD/melanoma.csv with 108 experiments.\n",
      "Model NeRD and cancer COAD.csv results have been sorted and saved to ./NeRD/COAD.csv with 108 experiments.\n",
      "Model NeRD and cancer breast.csv results have been sorted and saved to ./NeRD/breast.csv with 108 experiments.\n",
      "Model DeepCDR and cancer SCLC.csv results have been sorted and saved to ./DeepCDR/SCLC.csv with 108 experiments.\n",
      "Model DeepCDR and cancer LUAD.csv results have been sorted and saved to ./DeepCDR/LUAD.csv with 108 experiments.\n",
      "Model DeepCDR and cancer melanoma.csv results have been sorted and saved to ./DeepCDR/melanoma.csv with 108 experiments.\n",
      "Model DeepCDR and cancer COAD.csv results have been sorted and saved to ./DeepCDR/COAD.csv with 108 experiments.\n",
      "Model DeepCDR and cancer breast.csv results have been sorted and saved to ./DeepCDR/breast.csv with 108 experiments.\n",
      "Model GraphDRP and cancer SCLC.csv results have been sorted and saved to ./GraphDRP/SCLC.csv with 108 experiments.\n",
      "Model GraphDRP and cancer LUAD.csv results have been sorted and saved to ./GraphDRP/LUAD.csv with 108 experiments.\n",
      "Model GraphDRP and cancer melanoma.csv results have been sorted and saved to ./GraphDRP/melanoma.csv with 108 experiments.\n",
      "Model GraphDRP and cancer COAD.csv results have been sorted and saved to ./GraphDRP/COAD.csv with 108 experiments.\n",
      "Model GraphDRP and cancer breast.csv results have been sorted and saved to ./GraphDRP/breast.csv with 108 experiments.\n"
     ]
    }
   ],
   "source": [
    "models = list_subfolders('./')\n",
    "for model in models:\n",
    "    caners = list_files('./'+model)\n",
    "    for cancer in caners:\n",
    "        sort_results(model, cancer)"
   ]
  },
  {
   "cell_type": "code",
   "execution_count": null,
   "metadata": {},
   "outputs": [],
   "source": []
  }
 ],
 "metadata": {
  "kernelspec": {
   "display_name": "drug_response_env",
   "language": "python",
   "name": "python3"
  },
  "language_info": {
   "codemirror_mode": {
    "name": "ipython",
    "version": 3
   },
   "file_extension": ".py",
   "mimetype": "text/x-python",
   "name": "python",
   "nbconvert_exporter": "python",
   "pygments_lexer": "ipython3",
   "version": "3.9.18"
  }
 },
 "nbformat": 4,
 "nbformat_minor": 2
}
